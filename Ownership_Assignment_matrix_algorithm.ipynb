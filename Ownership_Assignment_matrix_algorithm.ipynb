{
  "nbformat": 4,
  "nbformat_minor": 0,
  "metadata": {
    "colab": {
      "name": "Ownership/Assignment matrix algorithm.ipynb",
      "provenance": [],
      "collapsed_sections": [],
      "authorship_tag": "ABX9TyOmOch9IVWX/lNuHMedSZsR",
      "include_colab_link": true
    },
    "kernelspec": {
      "name": "python3",
      "display_name": "Python 3"
    },
    "language_info": {
      "name": "python"
    }
  },
  "cells": [
    {
      "cell_type": "markdown",
      "metadata": {
        "id": "view-in-github",
        "colab_type": "text"
      },
      "source": [
        "<a href=\"https://colab.research.google.com/github/nurgab/github-slideshow/blob/main/Ownership_Assignment_matrix_algorithm.ipynb\" target=\"_parent\"><img src=\"https://colab.research.google.com/assets/colab-badge.svg\" alt=\"Open In Colab\"/></a>"
      ]
    },
    {
      "cell_type": "code",
      "metadata": {
        "id": "fXN_NTXmk--E",
        "colab": {
          "base_uri": "https://localhost:8080/"
        },
        "outputId": "2a9442cf-1e42-4e3d-8578-78b81e93c127"
      },
      "source": [
        "######## EXPONENTIAL SORTING ALGORITHM -   OWNERSHIP \n",
        "\n",
        "########                        I discoverd this method while trying to implement the Fast Search and Find of Density Peaks\n",
        "########                        algorithm (Rodriguez and Liao, 2014). \n",
        "########                        In one step, we have a bunch of points, and we want to assign ownership of every point\n",
        "########                        to its nearest neighbor of higher density.  I had some difficulty implementing my teacher's\n",
        "########                        method, and I had a sense that the assigning of ownership could be accomplished\n",
        "########                        by matrix multiplication - but I wasn't sure how. After some experimentation,\n",
        "########                        I worked out that you could represent the identity of a point by placing it in a row corresponding \n",
        "########                        and identifying index (e.g., point one in row one), and you could represent ownership by placing it\n",
        "########                        in the column corresponding to the index of its owner (for example, if point 1 belonged to point 3,\n",
        "########                        you would place a 1 in the first row, third column.  Also, all other columns in that row would have \n",
        "########                        a zero).  I have named this matrix the Ownership matrix, or Assignment matrix.\n",
        "########                        \n",
        "########                        Through manual experimentation with small, managable matrices, I worked out that we wanted to do two\n",
        "########                        things: delete the 1 in the old location corresponding to row(particle) and column(owner), and create\n",
        "########                        a 1 in a new location, corresponding to row(particle) and column(owner's owner).  To do this, I \n",
        "########                        determined that in order to have this effect the matrix which would multiply the Assignment matrix  \n",
        "########                        to updateownership must have two specific properties - 1. In order to interact with the owner, a 1 in \n",
        "########                        the multiplying matrix must be in the collumn which corresponds to the owner's row. In order to \n",
        "########                        produce a 1 in the assignees row, that one must be in the assignees row.\n",
        "\n",
        "########                        After making one of these by hand, I became confused, because the matrices I was constructing were \n",
        "########                        identicle to the position matrices themselves.  Further experimentation revealed that the Assignment \n",
        "########                        matrix itself had these properties. \n",
        "########                        \n",
        "########                        Therefor, THE ASSIGNMENT MATRIX, MULTIPLIED BY ITSELF A SUFFICIENT NUMBER OF TIMES, BECOMES THE\n",
        "########                        MATRIX SHOWING FINAL OWNERSHIP OR ASSIGNMENT OF ALL POINTS. If point one belongs to point three, \n",
        "########                        and point three belongs to point 5, and point five and point two both belong to point 4,\n",
        "#######                         repeatedly multiplying the Assignment matrix with itself will sort all points into column 4.\n",
        "########                        This makes a repeated sorting process simple and straightforward.\n",
        "########                          As an additional feature, if the Assignment Matrix (hereafter referred to as A)\n",
        "########                         has been multiplied by itself once, the product A^2 can be used instead, since it is equivalent\n",
        "########                        two two updates of A.  This will assign ownership at twice the rate.  The same is true for A^n\n",
        "########                        and there is probably an optimum A^n to use for a given system to get to final assignments.\n",
        "\n",
        "\n",
        "#As an example, let us say we have seven particles, with ownership relationship 1 -> 2 -> 5 and 4 -> 7 -> 3 - > 6\n",
        "#THis would be described by the assignment matrix:\n",
        "A = np.array([[0,1,0,0,0,0,0],\n",
        "              [0,0,0,0,1,0,0],\n",
        "              [0,0,0,0,0,1,0],\n",
        "              [0,0,0,0,0,0,1],\n",
        "              [0,0,0,0,1,0,0],\n",
        "              [0,0,0,0,0,1,0],\n",
        "              [0,0,1,0,0,0,0]])\n",
        "# It is worth noting that points which belong to themselves, and which will be owners at the end of assignment, are in both a row and\n",
        "# a column corresponding to their own index.\n",
        "\n",
        "# Now, given the relationships we have specified above, we expect to have 1,2, and 5 in the fifth column and\n",
        "# 4,7,3,6 in the sixth column.  Let's test it!\n",
        "\n",
        "A2 = A@A\n",
        "print(A2)"
      ],
      "execution_count": null,
      "outputs": [
        {
          "output_type": "stream",
          "name": "stdout",
          "text": [
            "[[0 0 0 0 1 0 0]\n",
            " [0 0 0 0 1 0 0]\n",
            " [0 0 0 0 0 1 0]\n",
            " [0 0 1 0 0 0 0]\n",
            " [0 0 0 0 1 0 0]\n",
            " [0 0 0 0 0 1 0]\n",
            " [0 0 0 0 0 1 0]]\n"
          ]
        }
      ]
    },
    {
      "cell_type": "code",
      "metadata": {
        "colab": {
          "base_uri": "https://localhost:8080/"
        },
        "id": "frqjVPQ3_7f7",
        "outputId": "d765c8a4-9e0d-4033-910b-0111ef189b29"
      },
      "source": [
        "# We can see that 1 is now assigned to 5, 7 assigned to 6, and 4 assigned to 3.  Lets repeat the multiplication:\n",
        "A3 = A@A2\n",
        "print(A3)"
      ],
      "execution_count": null,
      "outputs": [
        {
          "output_type": "stream",
          "name": "stdout",
          "text": [
            "[[0 0 0 0 1 0 0]\n",
            " [0 0 0 0 1 0 0]\n",
            " [0 0 0 0 0 1 0]\n",
            " [0 0 0 0 0 1 0]\n",
            " [0 0 0 0 1 0 0]\n",
            " [0 0 0 0 0 1 0]\n",
            " [0 0 0 0 0 1 0]]\n"
          ]
        }
      ]
    },
    {
      "cell_type": "code",
      "metadata": {
        "id": "qcIgc_NkGE1S"
      },
      "source": [
        "# We can see that, after two multiplications, all points have been assigned to their final owner.\n",
        "# Further experimentation is needed to prove that there are not exceptions or special cases."
      ],
      "execution_count": null,
      "outputs": []
    },
    {
      "cell_type": "code",
      "metadata": {
        "colab": {
          "base_uri": "https://localhost:8080/"
        },
        "id": "kYGN51Xjywf_",
        "outputId": "91023311-0ff0-470b-8a2a-49b9aa961ed3"
      },
      "source": [
        "#another example\n",
        "A = np.array([[0,0,0,0,0,0,0,0,1],\n",
        "              [0,0,0,0,1,0,0,0,0],\n",
        "              [0,0,0,0,0,0,0,1,0],\n",
        "              [0,0,0,1,0,0,0,0,0],\n",
        "              [0,0,0,0,0,1,0,0,0],\n",
        "              [0,0,0,1,0,0,0,0,0],\n",
        "              [0,0,0,0,0,0,1,0,0],\n",
        "              [0,0,0,0,0,0,1,0,0],\n",
        "              [0,0,0,0,0,1,0,0,0]])\n",
        "print(A@A@A)"
      ],
      "execution_count": null,
      "outputs": [
        {
          "output_type": "stream",
          "name": "stdout",
          "text": [
            "[[0 0 0 1 0 0 0 0 0]\n",
            " [0 0 0 1 0 0 0 0 0]\n",
            " [0 0 0 0 0 0 1 0 0]\n",
            " [0 0 0 1 0 0 0 0 0]\n",
            " [0 0 0 1 0 0 0 0 0]\n",
            " [0 0 0 1 0 0 0 0 0]\n",
            " [0 0 0 0 0 0 1 0 0]\n",
            " [0 0 0 0 0 0 1 0 0]\n",
            " [0 0 0 1 0 0 0 0 0]]\n"
          ]
        }
      ]
    },
    {
      "cell_type": "code",
      "metadata": {
        "id": "bdsQWEdoz1C_"
      },
      "source": [
        "#Exponential speed up by repeated use of matrix multiplication product\n",
        "\n",
        "N = A.shape[0]          #total number of elements modeled in this ownership system\n",
        "\n",
        "min_itr = int(np.ceil((np.log(N)/np.log(2))))  #Since every time A is multiplied by itself, the product becomes equivalent to\n",
        "                                               #twice as many updates of ownership.  So the first multiplication is one update,\n",
        "                                               #the second multiplication is three updates (since it is equivalent to 4 A matrices,\n",
        "                                               #the rightmost of which stands for the initial position, and the remaining three\n",
        "                                               #modifying that position), the third multiplicaation is 7 updates, etc.  The longest \n",
        "                                               #possible ownership chain, for a system of N entities, would be N-1, so N-1\n",
        "                                               #individual multiplications of A with itself would be needed.  By squaring A, and then repeatedly\n",
        "                                               #squaring the subsequent products with themselves, update magnitudes\n",
        "                                               # progress by 2^n - 1 (n is the iteration, not to be confused with N).  For a size \n",
        "                                               # N system, with needs N-1 updates at most, the largest possible number of iterations\n",
        "                                               # can be obtained by setting N - 1 =< 2^n - 1, and solving for n: ln(N)/ln(2) =< n.\n",
        "                                               # Then n iterations of A = A@A are used.\n",
        "for i in range(min_itr):\n",
        "  A = A@A\n",
        "\n",
        "assigned = np.sum(A,axis = 0)\n",
        "print(min_itr,np.c_[np.arange(L),assigned])"
		
		  
		"####### Further exploration - it appears that, once the system is fully sorted, additional multiplications of A have no effect\n",
		"####### on the product, at least for the examples so far examined.  So results will no become dissaranged if mor multiplications\n",
		"####### occur than are necessary.\n",
		"\n",
		"####### This is shown tangentially in the cell above, but add a more granular demonstration.\n",

		"####### Another matter - if there is a cycle of ownership, and no final owner to which other indices can belong, then the matrices\n",
		"####### will change in a pattern, which will repeat after enough time.\n",
		  
		  
      ],
      "execution_count": null,
      "outputs": []
    }
  ]
}
